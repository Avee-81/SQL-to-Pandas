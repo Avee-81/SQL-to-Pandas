{
 "cells": [
  {
   "cell_type": "code",
   "execution_count": null,
   "id": "89a09ce9",
   "metadata": {},
   "outputs": [],
   "source": [
    "pip install ipython-sql"
   ]
  },
  {
   "cell_type": "code",
   "execution_count": 1,
   "id": "0e17e6ed",
   "metadata": {},
   "outputs": [],
   "source": [
    "%load_ext sql"
   ]
  },
  {
   "cell_type": "code",
   "execution_count": 2,
   "id": "7797c155",
   "metadata": {},
   "outputs": [],
   "source": [
    "%sql sqlite://"
   ]
  },
  {
   "cell_type": "code",
   "execution_count": 34,
   "id": "bf3a0624",
   "metadata": {},
   "outputs": [],
   "source": [
    "import pandas as pd\n",
    "import numpy as np"
   ]
  },
  {
   "cell_type": "code",
   "execution_count": 4,
   "id": "1f4dbb7b",
   "metadata": {},
   "outputs": [],
   "source": [
    "df = pd.read_csv('../data.csv')"
   ]
  },
  {
   "cell_type": "code",
   "execution_count": 5,
   "id": "c51dae11",
   "metadata": {},
   "outputs": [],
   "source": [
    "df[\"date_of_joining\"] = pd.to_datetime(df.date_of_joining)"
   ]
  },
  {
   "cell_type": "code",
   "execution_count": 6,
   "id": "ec9b589a",
   "metadata": {},
   "outputs": [
    {
     "data": {
      "text/html": [
       "<div>\n",
       "<style scoped>\n",
       "    .dataframe tbody tr th:only-of-type {\n",
       "        vertical-align: middle;\n",
       "    }\n",
       "\n",
       "    .dataframe tbody tr th {\n",
       "        vertical-align: top;\n",
       "    }\n",
       "\n",
       "    .dataframe thead th {\n",
       "        text-align: right;\n",
       "    }\n",
       "</style>\n",
       "<table border=\"1\" class=\"dataframe\">\n",
       "  <thead>\n",
       "    <tr style=\"text-align: right;\">\n",
       "      <th></th>\n",
       "      <th>ID</th>\n",
       "      <th>first_name</th>\n",
       "      <th>last_name</th>\n",
       "      <th>gender</th>\n",
       "      <th>salary</th>\n",
       "      <th>level</th>\n",
       "      <th>date_of_joining</th>\n",
       "    </tr>\n",
       "  </thead>\n",
       "  <tbody>\n",
       "    <tr>\n",
       "      <th>0</th>\n",
       "      <td>1</td>\n",
       "      <td>Peter</td>\n",
       "      <td>Sanders</td>\n",
       "      <td>M</td>\n",
       "      <td>10000</td>\n",
       "      <td>2</td>\n",
       "      <td>2020-10-03</td>\n",
       "    </tr>\n",
       "    <tr>\n",
       "      <th>1</th>\n",
       "      <td>2</td>\n",
       "      <td>Julie</td>\n",
       "      <td>Miller</td>\n",
       "      <td>F</td>\n",
       "      <td>12000</td>\n",
       "      <td>2</td>\n",
       "      <td>2020-01-14</td>\n",
       "    </tr>\n",
       "    <tr>\n",
       "      <th>2</th>\n",
       "      <td>3</td>\n",
       "      <td>Rachel</td>\n",
       "      <td>Bray</td>\n",
       "      <td>F</td>\n",
       "      <td>9000</td>\n",
       "      <td>1</td>\n",
       "      <td>2020-09-03</td>\n",
       "    </tr>\n",
       "    <tr>\n",
       "      <th>3</th>\n",
       "      <td>4</td>\n",
       "      <td>Priti</td>\n",
       "      <td>Agarwal</td>\n",
       "      <td>F</td>\n",
       "      <td>10000</td>\n",
       "      <td>2</td>\n",
       "      <td>2020-01-03</td>\n",
       "    </tr>\n",
       "    <tr>\n",
       "      <th>4</th>\n",
       "      <td>5</td>\n",
       "      <td>David</td>\n",
       "      <td>Cox</td>\n",
       "      <td>M</td>\n",
       "      <td>5000</td>\n",
       "      <td>1</td>\n",
       "      <td>2020-05-28</td>\n",
       "    </tr>\n",
       "    <tr>\n",
       "      <th>5</th>\n",
       "      <td>6</td>\n",
       "      <td>Helly</td>\n",
       "      <td>Raval</td>\n",
       "      <td>F</td>\n",
       "      <td>8000</td>\n",
       "      <td>1</td>\n",
       "      <td>2020-06-19</td>\n",
       "    </tr>\n",
       "    <tr>\n",
       "      <th>6</th>\n",
       "      <td>7</td>\n",
       "      <td>John</td>\n",
       "      <td>Frank</td>\n",
       "      <td>M</td>\n",
       "      <td>13000</td>\n",
       "      <td>3</td>\n",
       "      <td>2019-12-11</td>\n",
       "    </tr>\n",
       "    <tr>\n",
       "      <th>7</th>\n",
       "      <td>8</td>\n",
       "      <td>Mark</td>\n",
       "      <td>Franklin</td>\n",
       "      <td>M</td>\n",
       "      <td>13500</td>\n",
       "      <td>3</td>\n",
       "      <td>2019-12-11</td>\n",
       "    </tr>\n",
       "    <tr>\n",
       "      <th>8</th>\n",
       "      <td>9</td>\n",
       "      <td>Cristina</td>\n",
       "      <td>Rel</td>\n",
       "      <td>F</td>\n",
       "      <td>15000</td>\n",
       "      <td>4</td>\n",
       "      <td>2019-09-22</td>\n",
       "    </tr>\n",
       "    <tr>\n",
       "      <th>9</th>\n",
       "      <td>10</td>\n",
       "      <td>Brock</td>\n",
       "      <td>Murray</td>\n",
       "      <td>M</td>\n",
       "      <td>11000</td>\n",
       "      <td>2</td>\n",
       "      <td>2020-02-13</td>\n",
       "    </tr>\n",
       "  </tbody>\n",
       "</table>\n",
       "</div>"
      ],
      "text/plain": [
       "   ID first_name last_name gender  salary  level date_of_joining\n",
       "0   1      Peter   Sanders      M   10000      2      2020-10-03\n",
       "1   2      Julie    Miller      F   12000      2      2020-01-14\n",
       "2   3     Rachel      Bray      F    9000      1      2020-09-03\n",
       "3   4      Priti   Agarwal      F   10000      2      2020-01-03\n",
       "4   5      David       Cox      M    5000      1      2020-05-28\n",
       "5   6      Helly     Raval      F    8000      1      2020-06-19\n",
       "6   7       John     Frank      M   13000      3      2019-12-11\n",
       "7   8       Mark  Franklin      M   13500      3      2019-12-11\n",
       "8   9   Cristina       Rel      F   15000      4      2019-09-22\n",
       "9  10      Brock    Murray      M   11000      2      2020-02-13"
      ]
     },
     "execution_count": 6,
     "metadata": {},
     "output_type": "execute_result"
    }
   ],
   "source": [
    "df"
   ]
  },
  {
   "cell_type": "code",
   "execution_count": 27,
   "id": "67f2d5ce",
   "metadata": {},
   "outputs": [
    {
     "name": "stdout",
     "output_type": "stream",
     "text": [
      " * sqlite://\n",
      "Done.\n",
      "Done.\n",
      "10 rows affected.\n"
     ]
    },
    {
     "data": {
      "text/plain": [
       "[]"
      ]
     },
     "execution_count": 27,
     "metadata": {},
     "output_type": "execute_result"
    }
   ],
   "source": [
    "%%sql\n",
    "drop table if exists employee;\n",
    "CREATE TABLE employee\n",
    "(\n",
    "    ID       integer,\n",
    "    first_name        varchar(20),\n",
    "    last_name   varchar(20),\n",
    "    gender varchar(2),\n",
    "    salary     integer,\n",
    "    level integer,\n",
    "    date_of_joining date\n",
    ");\n",
    "\n",
    "INSERT INTO employee\n",
    "values (1, 'Peter',    'Sanders',  'M', 10000, 2, '2020-03-10'),\n",
    "       (2, 'Julie',    'Miller',   'F', 12000, 2, '2020-01-14'),\n",
    "       (3, 'Rachel',   'Bray',     'F', 9000,  1, '2020-03-09'),\n",
    "       (4, 'Priti',    'Agarwal',  'F', 10000, 2, '2020-03-01'),\n",
    "       (5, 'David',    'Cox',      'M', 5000,  1, '2020-05-28'),\n",
    "       (6, 'Helly',    'Raval',    'F', 8000,  1, '2020-06-19'),\n",
    "       (7, 'John',     'Frank',    'M', 13000, 3, '2019-11-12'),\n",
    "       (8, 'Mark',     'Franklin', 'M', 13500, 3, '2019-11-12'),\n",
    "       (9, 'Cristina', 'Rel',      'F', 15000, 4, '2019-09-22'),\n",
    "       (10, 'Brock',   'Murray',   'M', 11000, 2,' 2020-02-13');"
   ]
  },
  {
   "cell_type": "markdown",
   "id": "7b26d5dd",
   "metadata": {},
   "source": [
    "# Display First 5 (or k) Rows of the Table"
   ]
  },
  {
   "cell_type": "code",
   "execution_count": 11,
   "id": "6bd0d393",
   "metadata": {},
   "outputs": [
    {
     "name": "stdout",
     "output_type": "stream",
     "text": [
      " * sqlite://\n",
      "Done.\n"
     ]
    },
    {
     "data": {
      "text/html": [
       "<table>\n",
       "    <tr>\n",
       "        <th>ID</th>\n",
       "        <th>first_name</th>\n",
       "        <th>last_name</th>\n",
       "        <th>gender</th>\n",
       "        <th>salary</th>\n",
       "        <th>level</th>\n",
       "        <th>date_of_joining</th>\n",
       "    </tr>\n",
       "    <tr>\n",
       "        <td>1</td>\n",
       "        <td>Peter</td>\n",
       "        <td>Sanders</td>\n",
       "        <td>M</td>\n",
       "        <td>10000</td>\n",
       "        <td>2</td>\n",
       "        <td>2020-03-10</td>\n",
       "    </tr>\n",
       "    <tr>\n",
       "        <td>2</td>\n",
       "        <td>Julie</td>\n",
       "        <td>Miller</td>\n",
       "        <td>F</td>\n",
       "        <td>12000</td>\n",
       "        <td>2</td>\n",
       "        <td>2020-01-14</td>\n",
       "    </tr>\n",
       "    <tr>\n",
       "        <td>3</td>\n",
       "        <td>Rachel</td>\n",
       "        <td>Bray</td>\n",
       "        <td>F</td>\n",
       "        <td>9000</td>\n",
       "        <td>1</td>\n",
       "        <td>2020-03-09</td>\n",
       "    </tr>\n",
       "    <tr>\n",
       "        <td>4</td>\n",
       "        <td>Priti</td>\n",
       "        <td>Agarwal</td>\n",
       "        <td>F</td>\n",
       "        <td>10000</td>\n",
       "        <td>2</td>\n",
       "        <td>2020-03-01</td>\n",
       "    </tr>\n",
       "    <tr>\n",
       "        <td>5</td>\n",
       "        <td>David</td>\n",
       "        <td>Cox</td>\n",
       "        <td>M</td>\n",
       "        <td>5000</td>\n",
       "        <td>1</td>\n",
       "        <td>2020-05-28</td>\n",
       "    </tr>\n",
       "</table>"
      ],
      "text/plain": [
       "[(1, 'Peter', 'Sanders', 'M', 10000, 2, '2020-03-10'),\n",
       " (2, 'Julie', 'Miller', 'F', 12000, 2, '2020-01-14'),\n",
       " (3, 'Rachel', 'Bray', 'F', 9000, 1, '2020-03-09'),\n",
       " (4, 'Priti', 'Agarwal', 'F', 10000, 2, '2020-03-01'),\n",
       " (5, 'David', 'Cox', 'M', 5000, 1, '2020-05-28')]"
      ]
     },
     "execution_count": 11,
     "metadata": {},
     "output_type": "execute_result"
    }
   ],
   "source": [
    "%%sql\n",
    "select * from employee limit 5;"
   ]
  },
  {
   "cell_type": "code",
   "execution_count": 12,
   "id": "3a0a8ded",
   "metadata": {},
   "outputs": [
    {
     "data": {
      "text/html": [
       "<div>\n",
       "<style scoped>\n",
       "    .dataframe tbody tr th:only-of-type {\n",
       "        vertical-align: middle;\n",
       "    }\n",
       "\n",
       "    .dataframe tbody tr th {\n",
       "        vertical-align: top;\n",
       "    }\n",
       "\n",
       "    .dataframe thead th {\n",
       "        text-align: right;\n",
       "    }\n",
       "</style>\n",
       "<table border=\"1\" class=\"dataframe\">\n",
       "  <thead>\n",
       "    <tr style=\"text-align: right;\">\n",
       "      <th></th>\n",
       "      <th>ID</th>\n",
       "      <th>first_name</th>\n",
       "      <th>last_name</th>\n",
       "      <th>gender</th>\n",
       "      <th>salary</th>\n",
       "      <th>level</th>\n",
       "      <th>date_of_joining</th>\n",
       "    </tr>\n",
       "  </thead>\n",
       "  <tbody>\n",
       "    <tr>\n",
       "      <th>0</th>\n",
       "      <td>1</td>\n",
       "      <td>Peter</td>\n",
       "      <td>Sanders</td>\n",
       "      <td>M</td>\n",
       "      <td>10000</td>\n",
       "      <td>2</td>\n",
       "      <td>2020-10-03</td>\n",
       "    </tr>\n",
       "    <tr>\n",
       "      <th>1</th>\n",
       "      <td>2</td>\n",
       "      <td>Julie</td>\n",
       "      <td>Miller</td>\n",
       "      <td>F</td>\n",
       "      <td>12000</td>\n",
       "      <td>2</td>\n",
       "      <td>2020-01-14</td>\n",
       "    </tr>\n",
       "    <tr>\n",
       "      <th>2</th>\n",
       "      <td>3</td>\n",
       "      <td>Rachel</td>\n",
       "      <td>Bray</td>\n",
       "      <td>F</td>\n",
       "      <td>9000</td>\n",
       "      <td>1</td>\n",
       "      <td>2020-09-03</td>\n",
       "    </tr>\n",
       "    <tr>\n",
       "      <th>3</th>\n",
       "      <td>4</td>\n",
       "      <td>Priti</td>\n",
       "      <td>Agarwal</td>\n",
       "      <td>F</td>\n",
       "      <td>10000</td>\n",
       "      <td>2</td>\n",
       "      <td>2020-01-03</td>\n",
       "    </tr>\n",
       "    <tr>\n",
       "      <th>4</th>\n",
       "      <td>5</td>\n",
       "      <td>David</td>\n",
       "      <td>Cox</td>\n",
       "      <td>M</td>\n",
       "      <td>5000</td>\n",
       "      <td>1</td>\n",
       "      <td>2020-05-28</td>\n",
       "    </tr>\n",
       "  </tbody>\n",
       "</table>\n",
       "</div>"
      ],
      "text/plain": [
       "   ID first_name last_name gender  salary  level date_of_joining\n",
       "0   1      Peter   Sanders      M   10000      2      2020-10-03\n",
       "1   2      Julie    Miller      F   12000      2      2020-01-14\n",
       "2   3     Rachel      Bray      F    9000      1      2020-09-03\n",
       "3   4      Priti   Agarwal      F   10000      2      2020-01-03\n",
       "4   5      David       Cox      M    5000      1      2020-05-28"
      ]
     },
     "execution_count": 12,
     "metadata": {},
     "output_type": "execute_result"
    }
   ],
   "source": [
    "df.head(5)"
   ]
  },
  {
   "cell_type": "markdown",
   "id": "ea5a21b9",
   "metadata": {},
   "source": [
    "# Select with Condition on One (or more) Columns"
   ]
  },
  {
   "cell_type": "code",
   "execution_count": 18,
   "id": "bc7df335",
   "metadata": {},
   "outputs": [
    {
     "name": "stdout",
     "output_type": "stream",
     "text": [
      " * sqlite://\n",
      "Done.\n"
     ]
    },
    {
     "data": {
      "text/html": [
       "<table>\n",
       "    <tr>\n",
       "        <th>ID</th>\n",
       "        <th>first_name</th>\n",
       "        <th>last_name</th>\n",
       "        <th>gender</th>\n",
       "        <th>salary</th>\n",
       "        <th>level</th>\n",
       "        <th>date_of_joining</th>\n",
       "    </tr>\n",
       "    <tr>\n",
       "        <td>2</td>\n",
       "        <td>Julie</td>\n",
       "        <td>Miller</td>\n",
       "        <td>F</td>\n",
       "        <td>12000</td>\n",
       "        <td>2</td>\n",
       "        <td>2020-01-14</td>\n",
       "    </tr>\n",
       "    <tr>\n",
       "        <td>3</td>\n",
       "        <td>Rachel</td>\n",
       "        <td>Bray</td>\n",
       "        <td>F</td>\n",
       "        <td>9000</td>\n",
       "        <td>1</td>\n",
       "        <td>2020-03-09</td>\n",
       "    </tr>\n",
       "    <tr>\n",
       "        <td>4</td>\n",
       "        <td>Priti</td>\n",
       "        <td>Agarwal</td>\n",
       "        <td>F</td>\n",
       "        <td>10000</td>\n",
       "        <td>2</td>\n",
       "        <td>2020-03-01</td>\n",
       "    </tr>\n",
       "    <tr>\n",
       "        <td>6</td>\n",
       "        <td>Helly</td>\n",
       "        <td>Raval</td>\n",
       "        <td>F</td>\n",
       "        <td>8000</td>\n",
       "        <td>1</td>\n",
       "        <td>2020-06-19</td>\n",
       "    </tr>\n",
       "    <tr>\n",
       "        <td>9</td>\n",
       "        <td>Cristina</td>\n",
       "        <td>Rel</td>\n",
       "        <td>F</td>\n",
       "        <td>15000</td>\n",
       "        <td>4</td>\n",
       "        <td>2019-09-22</td>\n",
       "    </tr>\n",
       "</table>"
      ],
      "text/plain": [
       "[(2, 'Julie', 'Miller', 'F', 12000, 2, '2020-01-14'),\n",
       " (3, 'Rachel', 'Bray', 'F', 9000, 1, '2020-03-09'),\n",
       " (4, 'Priti', 'Agarwal', 'F', 10000, 2, '2020-03-01'),\n",
       " (6, 'Helly', 'Raval', 'F', 8000, 1, '2020-06-19'),\n",
       " (9, 'Cristina', 'Rel', 'F', 15000, 4, '2019-09-22')]"
      ]
     },
     "execution_count": 18,
     "metadata": {},
     "output_type": "execute_result"
    }
   ],
   "source": [
    "%%sql\n",
    "select * from employee\n",
    "where gender == 'F';"
   ]
  },
  {
   "cell_type": "code",
   "execution_count": 15,
   "id": "649f81cf",
   "metadata": {},
   "outputs": [
    {
     "data": {
      "text/html": [
       "<div>\n",
       "<style scoped>\n",
       "    .dataframe tbody tr th:only-of-type {\n",
       "        vertical-align: middle;\n",
       "    }\n",
       "\n",
       "    .dataframe tbody tr th {\n",
       "        vertical-align: top;\n",
       "    }\n",
       "\n",
       "    .dataframe thead th {\n",
       "        text-align: right;\n",
       "    }\n",
       "</style>\n",
       "<table border=\"1\" class=\"dataframe\">\n",
       "  <thead>\n",
       "    <tr style=\"text-align: right;\">\n",
       "      <th></th>\n",
       "      <th>ID</th>\n",
       "      <th>first_name</th>\n",
       "      <th>last_name</th>\n",
       "      <th>gender</th>\n",
       "      <th>salary</th>\n",
       "      <th>level</th>\n",
       "      <th>date_of_joining</th>\n",
       "    </tr>\n",
       "  </thead>\n",
       "  <tbody>\n",
       "    <tr>\n",
       "      <th>1</th>\n",
       "      <td>2</td>\n",
       "      <td>Julie</td>\n",
       "      <td>Miller</td>\n",
       "      <td>F</td>\n",
       "      <td>12000</td>\n",
       "      <td>2</td>\n",
       "      <td>2020-01-14</td>\n",
       "    </tr>\n",
       "    <tr>\n",
       "      <th>2</th>\n",
       "      <td>3</td>\n",
       "      <td>Rachel</td>\n",
       "      <td>Bray</td>\n",
       "      <td>F</td>\n",
       "      <td>9000</td>\n",
       "      <td>1</td>\n",
       "      <td>2020-09-03</td>\n",
       "    </tr>\n",
       "    <tr>\n",
       "      <th>3</th>\n",
       "      <td>4</td>\n",
       "      <td>Priti</td>\n",
       "      <td>Agarwal</td>\n",
       "      <td>F</td>\n",
       "      <td>10000</td>\n",
       "      <td>2</td>\n",
       "      <td>2020-01-03</td>\n",
       "    </tr>\n",
       "    <tr>\n",
       "      <th>5</th>\n",
       "      <td>6</td>\n",
       "      <td>Helly</td>\n",
       "      <td>Raval</td>\n",
       "      <td>F</td>\n",
       "      <td>8000</td>\n",
       "      <td>1</td>\n",
       "      <td>2020-06-19</td>\n",
       "    </tr>\n",
       "    <tr>\n",
       "      <th>8</th>\n",
       "      <td>9</td>\n",
       "      <td>Cristina</td>\n",
       "      <td>Rel</td>\n",
       "      <td>F</td>\n",
       "      <td>15000</td>\n",
       "      <td>4</td>\n",
       "      <td>2019-09-22</td>\n",
       "    </tr>\n",
       "  </tbody>\n",
       "</table>\n",
       "</div>"
      ],
      "text/plain": [
       "   ID first_name last_name gender  salary  level date_of_joining\n",
       "1   2      Julie    Miller      F   12000      2      2020-01-14\n",
       "2   3     Rachel      Bray      F    9000      1      2020-09-03\n",
       "3   4      Priti   Agarwal      F   10000      2      2020-01-03\n",
       "5   6      Helly     Raval      F    8000      1      2020-06-19\n",
       "8   9   Cristina       Rel      F   15000      4      2019-09-22"
      ]
     },
     "execution_count": 15,
     "metadata": {},
     "output_type": "execute_result"
    }
   ],
   "source": [
    "df[df.gender == 'F']"
   ]
  },
  {
   "cell_type": "markdown",
   "id": "9b2bd741",
   "metadata": {},
   "source": [
    "# Select a Subset of Columns"
   ]
  },
  {
   "cell_type": "code",
   "execution_count": 22,
   "id": "0004897e",
   "metadata": {},
   "outputs": [
    {
     "name": "stdout",
     "output_type": "stream",
     "text": [
      " * sqlite://\n",
      "Done.\n"
     ]
    },
    {
     "data": {
      "text/html": [
       "<table>\n",
       "    <tr>\n",
       "        <th>ID</th>\n",
       "        <th>first_name</th>\n",
       "        <th>last_name</th>\n",
       "    </tr>\n",
       "    <tr>\n",
       "        <td>1</td>\n",
       "        <td>Peter</td>\n",
       "        <td>Sanders</td>\n",
       "    </tr>\n",
       "    <tr>\n",
       "        <td>2</td>\n",
       "        <td>Julie</td>\n",
       "        <td>Miller</td>\n",
       "    </tr>\n",
       "    <tr>\n",
       "        <td>3</td>\n",
       "        <td>Rachel</td>\n",
       "        <td>Bray</td>\n",
       "    </tr>\n",
       "    <tr>\n",
       "        <td>4</td>\n",
       "        <td>Priti</td>\n",
       "        <td>Agarwal</td>\n",
       "    </tr>\n",
       "    <tr>\n",
       "        <td>5</td>\n",
       "        <td>David</td>\n",
       "        <td>Cox</td>\n",
       "    </tr>\n",
       "    <tr>\n",
       "        <td>6</td>\n",
       "        <td>Helly</td>\n",
       "        <td>Raval</td>\n",
       "    </tr>\n",
       "    <tr>\n",
       "        <td>7</td>\n",
       "        <td>John</td>\n",
       "        <td>Frank</td>\n",
       "    </tr>\n",
       "    <tr>\n",
       "        <td>8</td>\n",
       "        <td>Mark</td>\n",
       "        <td>Franklin</td>\n",
       "    </tr>\n",
       "    <tr>\n",
       "        <td>9</td>\n",
       "        <td>Cristina</td>\n",
       "        <td>Rel</td>\n",
       "    </tr>\n",
       "    <tr>\n",
       "        <td>10</td>\n",
       "        <td>Brock</td>\n",
       "        <td>Murray</td>\n",
       "    </tr>\n",
       "</table>"
      ],
      "text/plain": [
       "[(1, 'Peter', 'Sanders'),\n",
       " (2, 'Julie', 'Miller'),\n",
       " (3, 'Rachel', 'Bray'),\n",
       " (4, 'Priti', 'Agarwal'),\n",
       " (5, 'David', 'Cox'),\n",
       " (6, 'Helly', 'Raval'),\n",
       " (7, 'John', 'Frank'),\n",
       " (8, 'Mark', 'Franklin'),\n",
       " (9, 'Cristina', 'Rel'),\n",
       " (10, 'Brock', 'Murray')]"
      ]
     },
     "execution_count": 22,
     "metadata": {},
     "output_type": "execute_result"
    }
   ],
   "source": [
    "%%sql\n",
    "select ID, FIrst_name, last_name from employee;"
   ]
  },
  {
   "cell_type": "code",
   "execution_count": 23,
   "id": "19c9fd25",
   "metadata": {},
   "outputs": [
    {
     "data": {
      "text/html": [
       "<div>\n",
       "<style scoped>\n",
       "    .dataframe tbody tr th:only-of-type {\n",
       "        vertical-align: middle;\n",
       "    }\n",
       "\n",
       "    .dataframe tbody tr th {\n",
       "        vertical-align: top;\n",
       "    }\n",
       "\n",
       "    .dataframe thead th {\n",
       "        text-align: right;\n",
       "    }\n",
       "</style>\n",
       "<table border=\"1\" class=\"dataframe\">\n",
       "  <thead>\n",
       "    <tr style=\"text-align: right;\">\n",
       "      <th></th>\n",
       "      <th>ID</th>\n",
       "      <th>first_name</th>\n",
       "      <th>last_name</th>\n",
       "    </tr>\n",
       "  </thead>\n",
       "  <tbody>\n",
       "    <tr>\n",
       "      <th>0</th>\n",
       "      <td>1</td>\n",
       "      <td>Peter</td>\n",
       "      <td>Sanders</td>\n",
       "    </tr>\n",
       "    <tr>\n",
       "      <th>1</th>\n",
       "      <td>2</td>\n",
       "      <td>Julie</td>\n",
       "      <td>Miller</td>\n",
       "    </tr>\n",
       "    <tr>\n",
       "      <th>2</th>\n",
       "      <td>3</td>\n",
       "      <td>Rachel</td>\n",
       "      <td>Bray</td>\n",
       "    </tr>\n",
       "    <tr>\n",
       "      <th>3</th>\n",
       "      <td>4</td>\n",
       "      <td>Priti</td>\n",
       "      <td>Agarwal</td>\n",
       "    </tr>\n",
       "    <tr>\n",
       "      <th>4</th>\n",
       "      <td>5</td>\n",
       "      <td>David</td>\n",
       "      <td>Cox</td>\n",
       "    </tr>\n",
       "    <tr>\n",
       "      <th>5</th>\n",
       "      <td>6</td>\n",
       "      <td>Helly</td>\n",
       "      <td>Raval</td>\n",
       "    </tr>\n",
       "    <tr>\n",
       "      <th>6</th>\n",
       "      <td>7</td>\n",
       "      <td>John</td>\n",
       "      <td>Frank</td>\n",
       "    </tr>\n",
       "    <tr>\n",
       "      <th>7</th>\n",
       "      <td>8</td>\n",
       "      <td>Mark</td>\n",
       "      <td>Franklin</td>\n",
       "    </tr>\n",
       "    <tr>\n",
       "      <th>8</th>\n",
       "      <td>9</td>\n",
       "      <td>Cristina</td>\n",
       "      <td>Rel</td>\n",
       "    </tr>\n",
       "    <tr>\n",
       "      <th>9</th>\n",
       "      <td>10</td>\n",
       "      <td>Brock</td>\n",
       "      <td>Murray</td>\n",
       "    </tr>\n",
       "  </tbody>\n",
       "</table>\n",
       "</div>"
      ],
      "text/plain": [
       "   ID first_name last_name\n",
       "0   1      Peter   Sanders\n",
       "1   2      Julie    Miller\n",
       "2   3     Rachel      Bray\n",
       "3   4      Priti   Agarwal\n",
       "4   5      David       Cox\n",
       "5   6      Helly     Raval\n",
       "6   7       John     Frank\n",
       "7   8       Mark  Franklin\n",
       "8   9   Cristina       Rel\n",
       "9  10      Brock    Murray"
      ]
     },
     "execution_count": 23,
     "metadata": {},
     "output_type": "execute_result"
    }
   ],
   "source": [
    "df[[\"ID\", \"first_name\", \"last_name\"]]"
   ]
  },
  {
   "cell_type": "markdown",
   "id": "eb15884b",
   "metadata": {},
   "source": [
    "# Sorting the records based on Column values"
   ]
  },
  {
   "cell_type": "code",
   "execution_count": 31,
   "id": "20a40ca0",
   "metadata": {},
   "outputs": [
    {
     "name": "stdout",
     "output_type": "stream",
     "text": [
      " * sqlite://\n",
      "Done.\n"
     ]
    },
    {
     "data": {
      "text/html": [
       "<table>\n",
       "    <tr>\n",
       "        <th>ID</th>\n",
       "        <th>first_name</th>\n",
       "        <th>last_name</th>\n",
       "        <th>gender</th>\n",
       "        <th>salary</th>\n",
       "        <th>level</th>\n",
       "        <th>date_of_joining</th>\n",
       "    </tr>\n",
       "    <tr>\n",
       "        <td>9</td>\n",
       "        <td>Cristina</td>\n",
       "        <td>Rel</td>\n",
       "        <td>F</td>\n",
       "        <td>15000</td>\n",
       "        <td>4</td>\n",
       "        <td>2019-09-22</td>\n",
       "    </tr>\n",
       "    <tr>\n",
       "        <td>8</td>\n",
       "        <td>Mark</td>\n",
       "        <td>Franklin</td>\n",
       "        <td>M</td>\n",
       "        <td>13500</td>\n",
       "        <td>3</td>\n",
       "        <td>2019-11-12</td>\n",
       "    </tr>\n",
       "    <tr>\n",
       "        <td>7</td>\n",
       "        <td>John</td>\n",
       "        <td>Frank</td>\n",
       "        <td>M</td>\n",
       "        <td>13000</td>\n",
       "        <td>3</td>\n",
       "        <td>2019-11-12</td>\n",
       "    </tr>\n",
       "    <tr>\n",
       "        <td>2</td>\n",
       "        <td>Julie</td>\n",
       "        <td>Miller</td>\n",
       "        <td>F</td>\n",
       "        <td>12000</td>\n",
       "        <td>2</td>\n",
       "        <td>2020-01-14</td>\n",
       "    </tr>\n",
       "    <tr>\n",
       "        <td>10</td>\n",
       "        <td>Brock</td>\n",
       "        <td>Murray</td>\n",
       "        <td>M</td>\n",
       "        <td>11000</td>\n",
       "        <td>2</td>\n",
       "        <td> 2020-02-13</td>\n",
       "    </tr>\n",
       "    <tr>\n",
       "        <td>1</td>\n",
       "        <td>Peter</td>\n",
       "        <td>Sanders</td>\n",
       "        <td>M</td>\n",
       "        <td>10000</td>\n",
       "        <td>2</td>\n",
       "        <td>2020-03-10</td>\n",
       "    </tr>\n",
       "    <tr>\n",
       "        <td>4</td>\n",
       "        <td>Priti</td>\n",
       "        <td>Agarwal</td>\n",
       "        <td>F</td>\n",
       "        <td>10000</td>\n",
       "        <td>2</td>\n",
       "        <td>2020-03-01</td>\n",
       "    </tr>\n",
       "    <tr>\n",
       "        <td>3</td>\n",
       "        <td>Rachel</td>\n",
       "        <td>Bray</td>\n",
       "        <td>F</td>\n",
       "        <td>9000</td>\n",
       "        <td>1</td>\n",
       "        <td>2020-03-09</td>\n",
       "    </tr>\n",
       "    <tr>\n",
       "        <td>6</td>\n",
       "        <td>Helly</td>\n",
       "        <td>Raval</td>\n",
       "        <td>F</td>\n",
       "        <td>8000</td>\n",
       "        <td>1</td>\n",
       "        <td>2020-06-19</td>\n",
       "    </tr>\n",
       "    <tr>\n",
       "        <td>5</td>\n",
       "        <td>David</td>\n",
       "        <td>Cox</td>\n",
       "        <td>M</td>\n",
       "        <td>5000</td>\n",
       "        <td>1</td>\n",
       "        <td>2020-05-28</td>\n",
       "    </tr>\n",
       "</table>"
      ],
      "text/plain": [
       "[(9, 'Cristina', 'Rel', 'F', 15000, 4, '2019-09-22'),\n",
       " (8, 'Mark', 'Franklin', 'M', 13500, 3, '2019-11-12'),\n",
       " (7, 'John', 'Frank', 'M', 13000, 3, '2019-11-12'),\n",
       " (2, 'Julie', 'Miller', 'F', 12000, 2, '2020-01-14'),\n",
       " (10, 'Brock', 'Murray', 'M', 11000, 2, ' 2020-02-13'),\n",
       " (1, 'Peter', 'Sanders', 'M', 10000, 2, '2020-03-10'),\n",
       " (4, 'Priti', 'Agarwal', 'F', 10000, 2, '2020-03-01'),\n",
       " (3, 'Rachel', 'Bray', 'F', 9000, 1, '2020-03-09'),\n",
       " (6, 'Helly', 'Raval', 'F', 8000, 1, '2020-06-19'),\n",
       " (5, 'David', 'Cox', 'M', 5000, 1, '2020-05-28')]"
      ]
     },
     "execution_count": 31,
     "metadata": {},
     "output_type": "execute_result"
    }
   ],
   "source": [
    "%%sql\n",
    "select * from employee \n",
    "order by salary DESC;"
   ]
  },
  {
   "cell_type": "code",
   "execution_count": 32,
   "id": "c0c81d62",
   "metadata": {},
   "outputs": [
    {
     "data": {
      "text/html": [
       "<div>\n",
       "<style scoped>\n",
       "    .dataframe tbody tr th:only-of-type {\n",
       "        vertical-align: middle;\n",
       "    }\n",
       "\n",
       "    .dataframe tbody tr th {\n",
       "        vertical-align: top;\n",
       "    }\n",
       "\n",
       "    .dataframe thead th {\n",
       "        text-align: right;\n",
       "    }\n",
       "</style>\n",
       "<table border=\"1\" class=\"dataframe\">\n",
       "  <thead>\n",
       "    <tr style=\"text-align: right;\">\n",
       "      <th></th>\n",
       "      <th>ID</th>\n",
       "      <th>first_name</th>\n",
       "      <th>last_name</th>\n",
       "      <th>gender</th>\n",
       "      <th>salary</th>\n",
       "      <th>level</th>\n",
       "      <th>date_of_joining</th>\n",
       "    </tr>\n",
       "  </thead>\n",
       "  <tbody>\n",
       "    <tr>\n",
       "      <th>8</th>\n",
       "      <td>9</td>\n",
       "      <td>Cristina</td>\n",
       "      <td>Rel</td>\n",
       "      <td>F</td>\n",
       "      <td>15000</td>\n",
       "      <td>4</td>\n",
       "      <td>2019-09-22</td>\n",
       "    </tr>\n",
       "    <tr>\n",
       "      <th>7</th>\n",
       "      <td>8</td>\n",
       "      <td>Mark</td>\n",
       "      <td>Franklin</td>\n",
       "      <td>M</td>\n",
       "      <td>13500</td>\n",
       "      <td>3</td>\n",
       "      <td>2019-12-11</td>\n",
       "    </tr>\n",
       "    <tr>\n",
       "      <th>6</th>\n",
       "      <td>7</td>\n",
       "      <td>John</td>\n",
       "      <td>Frank</td>\n",
       "      <td>M</td>\n",
       "      <td>13000</td>\n",
       "      <td>3</td>\n",
       "      <td>2019-12-11</td>\n",
       "    </tr>\n",
       "    <tr>\n",
       "      <th>1</th>\n",
       "      <td>2</td>\n",
       "      <td>Julie</td>\n",
       "      <td>Miller</td>\n",
       "      <td>F</td>\n",
       "      <td>12000</td>\n",
       "      <td>2</td>\n",
       "      <td>2020-01-14</td>\n",
       "    </tr>\n",
       "    <tr>\n",
       "      <th>9</th>\n",
       "      <td>10</td>\n",
       "      <td>Brock</td>\n",
       "      <td>Murray</td>\n",
       "      <td>M</td>\n",
       "      <td>11000</td>\n",
       "      <td>2</td>\n",
       "      <td>2020-02-13</td>\n",
       "    </tr>\n",
       "    <tr>\n",
       "      <th>0</th>\n",
       "      <td>1</td>\n",
       "      <td>Peter</td>\n",
       "      <td>Sanders</td>\n",
       "      <td>M</td>\n",
       "      <td>10000</td>\n",
       "      <td>2</td>\n",
       "      <td>2020-10-03</td>\n",
       "    </tr>\n",
       "    <tr>\n",
       "      <th>3</th>\n",
       "      <td>4</td>\n",
       "      <td>Priti</td>\n",
       "      <td>Agarwal</td>\n",
       "      <td>F</td>\n",
       "      <td>10000</td>\n",
       "      <td>2</td>\n",
       "      <td>2020-01-03</td>\n",
       "    </tr>\n",
       "    <tr>\n",
       "      <th>2</th>\n",
       "      <td>3</td>\n",
       "      <td>Rachel</td>\n",
       "      <td>Bray</td>\n",
       "      <td>F</td>\n",
       "      <td>9000</td>\n",
       "      <td>1</td>\n",
       "      <td>2020-09-03</td>\n",
       "    </tr>\n",
       "    <tr>\n",
       "      <th>5</th>\n",
       "      <td>6</td>\n",
       "      <td>Helly</td>\n",
       "      <td>Raval</td>\n",
       "      <td>F</td>\n",
       "      <td>8000</td>\n",
       "      <td>1</td>\n",
       "      <td>2020-06-19</td>\n",
       "    </tr>\n",
       "    <tr>\n",
       "      <th>4</th>\n",
       "      <td>5</td>\n",
       "      <td>David</td>\n",
       "      <td>Cox</td>\n",
       "      <td>M</td>\n",
       "      <td>5000</td>\n",
       "      <td>1</td>\n",
       "      <td>2020-05-28</td>\n",
       "    </tr>\n",
       "  </tbody>\n",
       "</table>\n",
       "</div>"
      ],
      "text/plain": [
       "   ID first_name last_name gender  salary  level date_of_joining\n",
       "8   9   Cristina       Rel      F   15000      4      2019-09-22\n",
       "7   8       Mark  Franklin      M   13500      3      2019-12-11\n",
       "6   7       John     Frank      M   13000      3      2019-12-11\n",
       "1   2      Julie    Miller      F   12000      2      2020-01-14\n",
       "9  10      Brock    Murray      M   11000      2      2020-02-13\n",
       "0   1      Peter   Sanders      M   10000      2      2020-10-03\n",
       "3   4      Priti   Agarwal      F   10000      2      2020-01-03\n",
       "2   3     Rachel      Bray      F    9000      1      2020-09-03\n",
       "5   6      Helly     Raval      F    8000      1      2020-06-19\n",
       "4   5      David       Cox      M    5000      1      2020-05-28"
      ]
     },
     "execution_count": 32,
     "metadata": {},
     "output_type": "execute_result"
    }
   ],
   "source": [
    "df.sort_values(\"salary\", ascending=False)"
   ]
  },
  {
   "cell_type": "markdown",
   "id": "1e561ce3",
   "metadata": {},
   "source": [
    "# Grouping records"
   ]
  },
  {
   "cell_type": "code",
   "execution_count": 40,
   "id": "a6d5df87",
   "metadata": {},
   "outputs": [
    {
     "name": "stdout",
     "output_type": "stream",
     "text": [
      " * sqlite://\n",
      "Done.\n"
     ]
    },
    {
     "data": {
      "text/html": [
       "<table>\n",
       "    <tr>\n",
       "        <th>level</th>\n",
       "        <th>avg_salary</th>\n",
       "        <th>count</th>\n",
       "    </tr>\n",
       "    <tr>\n",
       "        <td>1</td>\n",
       "        <td>7333.33</td>\n",
       "        <td>3</td>\n",
       "    </tr>\n",
       "    <tr>\n",
       "        <td>2</td>\n",
       "        <td>10750.0</td>\n",
       "        <td>4</td>\n",
       "    </tr>\n",
       "    <tr>\n",
       "        <td>3</td>\n",
       "        <td>13250.0</td>\n",
       "        <td>2</td>\n",
       "    </tr>\n",
       "    <tr>\n",
       "        <td>4</td>\n",
       "        <td>15000.0</td>\n",
       "        <td>1</td>\n",
       "    </tr>\n",
       "</table>"
      ],
      "text/plain": [
       "[(1, 7333.33, 3), (2, 10750.0, 4), (3, 13250.0, 2), (4, 15000.0, 1)]"
      ]
     },
     "execution_count": 40,
     "metadata": {},
     "output_type": "execute_result"
    }
   ],
   "source": [
    "%%sql \n",
    "select level, round(avg(salary), 2) as avg_salary, count(*) as count\n",
    "from employee \n",
    "group by level;"
   ]
  },
  {
   "cell_type": "code",
   "execution_count": 36,
   "id": "5ffdcbb6",
   "metadata": {},
   "outputs": [
    {
     "data": {
      "text/html": [
       "<div>\n",
       "<style scoped>\n",
       "    .dataframe tbody tr th:only-of-type {\n",
       "        vertical-align: middle;\n",
       "    }\n",
       "\n",
       "    .dataframe tbody tr th {\n",
       "        vertical-align: top;\n",
       "    }\n",
       "\n",
       "    .dataframe thead th {\n",
       "        text-align: right;\n",
       "    }\n",
       "</style>\n",
       "<table border=\"1\" class=\"dataframe\">\n",
       "  <thead>\n",
       "    <tr style=\"text-align: right;\">\n",
       "      <th></th>\n",
       "      <th>salary</th>\n",
       "      <th>ID</th>\n",
       "    </tr>\n",
       "    <tr>\n",
       "      <th>level</th>\n",
       "      <th></th>\n",
       "      <th></th>\n",
       "    </tr>\n",
       "  </thead>\n",
       "  <tbody>\n",
       "    <tr>\n",
       "      <th>1</th>\n",
       "      <td>7333.333333</td>\n",
       "      <td>3</td>\n",
       "    </tr>\n",
       "    <tr>\n",
       "      <th>2</th>\n",
       "      <td>10750.000000</td>\n",
       "      <td>4</td>\n",
       "    </tr>\n",
       "    <tr>\n",
       "      <th>3</th>\n",
       "      <td>13250.000000</td>\n",
       "      <td>2</td>\n",
       "    </tr>\n",
       "    <tr>\n",
       "      <th>4</th>\n",
       "      <td>15000.000000</td>\n",
       "      <td>1</td>\n",
       "    </tr>\n",
       "  </tbody>\n",
       "</table>\n",
       "</div>"
      ],
      "text/plain": [
       "             salary  ID\n",
       "level                  \n",
       "1       7333.333333   3\n",
       "2      10750.000000   4\n",
       "3      13250.000000   2\n",
       "4      15000.000000   1"
      ]
     },
     "execution_count": 36,
     "metadata": {},
     "output_type": "execute_result"
    }
   ],
   "source": [
    "df.groupby(\"level\").agg({\"salary\":'mean', \"ID\":'size'})"
   ]
  },
  {
   "cell_type": "markdown",
   "id": "cbab496c",
   "metadata": {},
   "source": [
    "# Number of Distinct records"
   ]
  },
  {
   "cell_type": "code",
   "execution_count": 41,
   "id": "9f0909b2",
   "metadata": {},
   "outputs": [
    {
     "name": "stdout",
     "output_type": "stream",
     "text": [
      " * sqlite://\n",
      "Done.\n"
     ]
    },
    {
     "data": {
      "text/html": [
       "<table>\n",
       "    <tr>\n",
       "        <th>level</th>\n",
       "    </tr>\n",
       "    <tr>\n",
       "        <td>2</td>\n",
       "    </tr>\n",
       "    <tr>\n",
       "        <td>1</td>\n",
       "    </tr>\n",
       "    <tr>\n",
       "        <td>3</td>\n",
       "    </tr>\n",
       "    <tr>\n",
       "        <td>4</td>\n",
       "    </tr>\n",
       "</table>"
      ],
      "text/plain": [
       "[(2,), (1,), (3,), (4,)]"
      ]
     },
     "execution_count": 41,
     "metadata": {},
     "output_type": "execute_result"
    }
   ],
   "source": [
    "%%sql\n",
    "select distinct level from employee;"
   ]
  },
  {
   "cell_type": "code",
   "execution_count": 44,
   "id": "1b0352c6",
   "metadata": {},
   "outputs": [
    {
     "name": "stdout",
     "output_type": "stream",
     "text": [
      " * sqlite://\n",
      "Done.\n"
     ]
    },
    {
     "data": {
      "text/html": [
       "<table>\n",
       "    <tr>\n",
       "        <th>count(distinct level)</th>\n",
       "    </tr>\n",
       "    <tr>\n",
       "        <td>4</td>\n",
       "    </tr>\n",
       "</table>"
      ],
      "text/plain": [
       "[(4,)]"
      ]
     },
     "execution_count": 44,
     "metadata": {},
     "output_type": "execute_result"
    }
   ],
   "source": [
    "%%sql\n",
    "select count(distinct level) from employee;"
   ]
  },
  {
   "cell_type": "code",
   "execution_count": 45,
   "id": "2e91b2a5",
   "metadata": {},
   "outputs": [
    {
     "data": {
      "text/plain": [
       "array([2, 1, 3, 4])"
      ]
     },
     "execution_count": 45,
     "metadata": {},
     "output_type": "execute_result"
    }
   ],
   "source": [
    "df.level.unique()"
   ]
  },
  {
   "cell_type": "code",
   "execution_count": 46,
   "id": "513b3fd0",
   "metadata": {},
   "outputs": [
    {
     "data": {
      "text/plain": [
       "4"
      ]
     },
     "execution_count": 46,
     "metadata": {},
     "output_type": "execute_result"
    }
   ],
   "source": [
    "df.level.nunique()"
   ]
  },
  {
   "cell_type": "markdown",
   "id": "c4d971e4",
   "metadata": {},
   "source": [
    "# Number of Rows in the Table"
   ]
  },
  {
   "cell_type": "code",
   "execution_count": 47,
   "id": "d29fddff",
   "metadata": {},
   "outputs": [
    {
     "name": "stdout",
     "output_type": "stream",
     "text": [
      " * sqlite://\n",
      "Done.\n"
     ]
    },
    {
     "data": {
      "text/html": [
       "<table>\n",
       "    <tr>\n",
       "        <th>count(*)</th>\n",
       "    </tr>\n",
       "    <tr>\n",
       "        <td>10</td>\n",
       "    </tr>\n",
       "</table>"
      ],
      "text/plain": [
       "[(10,)]"
      ]
     },
     "execution_count": 47,
     "metadata": {},
     "output_type": "execute_result"
    }
   ],
   "source": [
    "%%sql\n",
    "select count(*) from employee;"
   ]
  },
  {
   "cell_type": "code",
   "execution_count": 48,
   "id": "071324b7",
   "metadata": {},
   "outputs": [
    {
     "data": {
      "text/plain": [
       "(10, 7)"
      ]
     },
     "execution_count": 48,
     "metadata": {},
     "output_type": "execute_result"
    }
   ],
   "source": [
    "df.shape"
   ]
  }
 ],
 "metadata": {
  "kernelspec": {
   "display_name": "Python 3 (ipykernel)",
   "language": "python",
   "name": "python3"
  },
  "language_info": {
   "codemirror_mode": {
    "name": "ipython",
    "version": 3
   },
   "file_extension": ".py",
   "mimetype": "text/x-python",
   "name": "python",
   "nbconvert_exporter": "python",
   "pygments_lexer": "ipython3",
   "version": "3.9.12"
  }
 },
 "nbformat": 4,
 "nbformat_minor": 5
}
